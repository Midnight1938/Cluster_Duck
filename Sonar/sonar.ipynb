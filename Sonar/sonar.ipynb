{
 "cells": [
  {
   "cell_type": "markdown",
   "metadata": {},
   "source": [
    "# Sonar\n",
    "Calculating the distance from an object based on the speed of sound\n",
    "\n",
    "Written in 3 languages:\n",
    "- Python\n",
    "- C++\n",
    "- Rust"
   ]
  },
  {
   "cell_type": "markdown",
   "metadata": {},
   "source": [
    "## Code in Python"
   ]
  },
  {
   "cell_type": "code",
   "execution_count": 8,
   "metadata": {},
   "outputs": [],
   "source": [
    "#!/bin/python\n",
    "\n",
    "def expoCalc(time=0):\n",
    "    if time == 0:\n",
    "        return \"The time was taken as 0.\\nYou are dead, congrats.\"\n",
    "    elif time > 0:\n",
    "        return (f\"The explosion was within a {time*343} meter radius.\")\n",
    "    else:\n",
    "        return \"You are dead.\"\n"
   ]
  },
  {
   "cell_type": "code",
   "execution_count": 3,
   "metadata": {},
   "outputs": [],
   "source": [
    "\n",
    "def litCalc(diff=0):\n",
    "    if diff == 0:\n",
    "        return \"Youre in it, either watch or seek shelter\"\n",
    "    if diff > 0:\n",
    "        return (f\"You are {diff*343} meters from the storm. Good luck\")\n",
    "    else:\n",
    "        return \"Wut\"\n"
   ]
  },
  {
   "cell_type": "code",
   "execution_count": 6,
   "metadata": {},
   "outputs": [],
   "source": [
    "def main():\n",
    "    print(\"Hi! Count the seconds btwn when you saw the light and the sound first. Or guess, no ones judging\\n\")\n",
    "    print(\"What do you want to calculate?\\n1. Explosion\\n2. Lightning\\n3. Quit\")\n",
    "    chois = int(input(\"\\nPick the num: \"))\n",
    "    if chois == 1:\n",
    "        exploTim = float(input(\n",
    "            \"What was the time diffrence between the cloud and the kaboom? (in seconds) \"))\n",
    "        print(expoCalc(time=exploTim))\n",
    "        break\n",
    "    elif chois == 2:\n",
    "        flashThunTim = float(\n",
    "            input(\"What was the time btwn flash and thunder?(in seconds) \"))\n",
    "        print(litCalc(diff=flashThunTim))\n",
    "        break\n",
    "    elif chois == 3:\n",
    "        print(\"Bye have a great time\")\n",
    "        break\n",
    "    else:\n",
    "        print(\"Had to pick one of the options...\")\n"
   ]
  },
  {
   "cell_type": "code",
   "execution_count": 7,
   "metadata": {},
   "outputs": [
    {
     "name": "stdout",
     "output_type": "stream",
     "text": [
      "What do you want to calculate?\n",
      "1. Explosion\n",
      "2. Lightning\n",
      "3. Quit\n",
      "The distance is between a 7889.0 meter radius.\n"
     ]
    }
   ],
   "source": [
    "\n",
    "if __name__ == \"__main__\":\n",
    "    main()"
   ]
  },
  {
   "cell_type": "markdown",
   "metadata": {},
   "source": [
    "## Code in C++"
   ]
  },
  {
   "cell_type": "code",
   "execution_count": null,
   "metadata": {},
   "outputs": [],
   "source": [
    "#include <iostream>\n",
    "\n",
    "using namespace std;\n",
    "\n",
    "void expoCalc(double time)\n",
    "{\n",
    "    if (time == 0)\n",
    "    {\n",
    "        cout << \"The time was taken as 0.\\nYou are dead, congrats.\" << endl;\n",
    "    }\n",
    "    else if (time > 0)\n",
    "    {\n",
    "        cout << \"The explosion was within a\" << time * 343 << \"meter radius.\" << endl;\n",
    "    }\n",
    "    else\n",
    "    {\n",
    "        cout << \"You are dead.\";\n",
    "    }\n",
    "}\n"
   ]
  },
  {
   "cell_type": "code",
   "execution_count": null,
   "metadata": {},
   "outputs": [],
   "source": [
    "\n",
    "void litCalc(double diff)\n",
    "{\n",
    "    if (diff == 0)\n",
    "    {\n",
    "\n",
    "        cout << \"Youre in it, either watch or seek shelter\" << endl;\n",
    "    }\n",
    "    else if (diff > 0)\n",
    "    {\n",
    "        cout << \"You are\" << diff * 343 << \"meters from the storm. Good luck\" << endl;\n",
    "    }\n",
    "    else\n",
    "    {\n",
    "        cout << \"Wut\";\n",
    "    }\n",
    "}\n"
   ]
  },
  {
   "cell_type": "code",
   "execution_count": null,
   "metadata": {},
   "outputs": [],
   "source": [
    "\n",
    "int main()\n",
    "{\n",
    "    int chois;\n",
    "    cout << \"Hi! Count the seconds btwn when you saw the light and the sound first. \"\n",
    "    << \"Or guess, no ones judging\\n\" << endl;\n",
    "    \n",
    "    cout << \"What do you want to calculate?\\n1. Explosion\\n2. Lightning\\n3. Quit\" << endl;\n",
    "\n",
    "    cout << \"Pick the num: \";\n",
    "    cin >> chois;\n",
    "\n",
    "    if (chois == 1)\n",
    "    {\n",
    "        double exploTim;\n",
    "        cout << \"What was the time diffrence between the cloud and the kaboom? (in seconds) \";\n",
    "        cin >> exploTim;\n",
    "        expoCalc(exploTim);\n",
    "    }\n",
    "    else if (chois == 2)\n",
    "    {\n",
    "        double flashThunTim;\n",
    "        cout << \"What was the time btwn flash and thunder?(in seconds) \" << endl;\n",
    "        cin >> flashThunTim;\n",
    "        litCalc(flashThunTim);\n",
    "    }\n",
    "    else if (chois == 3)\n",
    "    {\n",
    "\n",
    "        cout << \"Bye have a great time\" << endl;\n",
    "    }\n",
    "    else\n",
    "    {\n",
    "        cout << \"Had to pick one of the options...\" << endl;\n",
    "    };\n",
    "    return 0;\n",
    "}"
   ]
  },
  {
   "cell_type": "markdown",
   "metadata": {},
   "source": [
    "## Code in Rust"
   ]
  },
  {
   "cell_type": "code",
   "execution_count": null,
   "metadata": {
    "vscode": {
     "languageId": "rust"
    }
   },
   "outputs": [],
   "source": [
    "use std::io;\n",
    "\n",
    "fn main() {\n",
    "    println!(\"Hi! Count the seconds btwn when you saw the light and the sound first. Or guess, no ones judging\\n\");\n",
    "    println!(\"What do you want to calculate?\\n1. Explosion\\n2. Lightning\\n3. Quit\");\n",
    "\n",
    "    println!(\":>\");\n",
    "    let mut choice = String::new();\n",
    "          io::stdin().read_line(&mut choice).expect(\"Unable to read entered data\");\n",
    "    let choice: i32 = choice.trim().parse().ok().expect(\"Program processes numbers only\");\n",
    "\n",
    "\n",
    "    if choice == 1 {\n",
    "        println!(\"What was the time diffrence between the cloud and the kaboom?\");\n",
    "        let mut explo_tim = String::new();\n",
    "        io::stdin().read_line(&mut explo_tim).expect(\"Unable to read entered data\");\n",
    "        let explo_tim: i32 = explo_tim.trim().parse().ok().expect(\"Program processes numbers only\");\n",
    "\n",
    "        expo_calc(explo_tim);\n",
    "    } else if choice == 2{\n",
    "        println!(\"What was the time btwn flash and thunder?\");\n",
    "        let mut flash_thun_tim = String::new();\n",
    "        io::stdin().read_line(&mut flash_thun_tim).expect(\"Unable to read entered data\");\n",
    "        let flash_thun_tim: i32 = flash_thun_tim.trim().parse().ok().expect(\"Program processes numbers only\");\n",
    "\n",
    "        lit_calc(flash_thun_tim);\n",
    "    } else { println!(\"SOmething went wrong ☹️\")}\n",
    " \n",
    "}\n"
   ]
  },
  {
   "cell_type": "code",
   "execution_count": null,
   "metadata": {
    "vscode": {
     "languageId": "rust"
    }
   },
   "outputs": [],
   "source": [
    "\n",
    "fn expo_calc(time: i32){\n",
    "    if time == 0 {\n",
    "        println!(\"The time was taken as 0.\\nYou are dead, congrats.\");\n",
    "    }\n",
    "    else if time > 0{\n",
    "        println!(\"The explosion was within a {} meter radius.\",time*343);\n",
    "    }\n",
    "    else{\n",
    "        println!(\"You are dead.\");\n",
    "    }\n",
    "}\n"
   ]
  },
  {
   "cell_type": "code",
   "execution_count": null,
   "metadata": {
    "vscode": {
     "languageId": "rust"
    }
   },
   "outputs": [],
   "source": [
    "\n",
    "fn lit_calc(diff: i32){\n",
    "    if diff == 0{\n",
    "\n",
    "        println!(\"Youre in it, either watch or seek shelter\");\n",
    "    }\n",
    "    if diff > 0{\n",
    "\n",
    "        println!(\"You are {} meters from the storm. Good luck\",diff*343);\n",
    "    }\n",
    "    else{\n",
    "\n",
    "        println!(\"Wut\");\n",
    "    }\n",
    "}\n"
   ]
  }
 ],
 "metadata": {
  "kernelspec": {
   "display_name": "Python 3.10.5 64-bit",
   "language": "python",
   "name": "python3"
  },
  "language_info": {
   "codemirror_mode": {
    "name": "ipython",
    "version": 3
   },
   "file_extension": ".py",
   "mimetype": "text/x-python",
   "name": "python",
   "nbconvert_exporter": "python",
   "pygments_lexer": "ipython3",
   "version": "3.10.5"
  },
  "orig_nbformat": 4,
  "vscode": {
   "interpreter": {
    "hash": "e7370f93d1d0cde622a1f8e1c04877d8463912d04d973331ad4851f04de6915a"
   }
  }
 },
 "nbformat": 4,
 "nbformat_minor": 2
}
